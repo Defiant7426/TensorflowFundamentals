{
 "cells": [
  {
   "metadata": {},
   "cell_type": "markdown",
   "source": [
    "# Creando el primer tensor\n",
    "\n",
    "En el presente notebook se muestra cómo crear un tensor en TensorFlow 2.0"
   ],
   "id": "2afcea2d00fb19f1"
  },
  {
   "metadata": {
    "ExecuteTime": {
     "end_time": "2024-08-14T13:56:36.391741Z",
     "start_time": "2024-08-14T13:56:36.387382Z"
    }
   },
   "cell_type": "code",
   "source": [
    "# importamos tensorflow\n",
    "import tensorflow as tf\n",
    "\n",
    "# veamos la versión de tensorflow que estamos trabajando\n",
    "print(tf.__version__)"
   ],
   "id": "9f73368cb1d01afe",
   "outputs": [
    {
     "name": "stdout",
     "output_type": "stream",
     "text": [
      "2.15.0\n"
     ]
    }
   ],
   "execution_count": 2
  },
  {
   "metadata": {
    "ExecuteTime": {
     "end_time": "2024-08-14T13:58:32.090823Z",
     "start_time": "2024-08-14T13:58:32.010102Z"
    }
   },
   "cell_type": "code",
   "source": [
    "# Creando un tensor con tf.constant()\n",
    "scalar = tf.constant(7)\n",
    "scalar"
   ],
   "id": "3b7d212bd6b8e186",
   "outputs": [
    {
     "data": {
      "text/plain": [
       "<tf.Tensor: shape=(), dtype=int32, numpy=7>"
      ]
     },
     "execution_count": 3,
     "metadata": {},
     "output_type": "execute_result"
    }
   ],
   "execution_count": 3
  },
  {
   "metadata": {
    "ExecuteTime": {
     "end_time": "2024-08-14T13:58:39.820720Z",
     "start_time": "2024-08-14T13:58:39.816759Z"
    }
   },
   "cell_type": "code",
   "source": [
    "# Verificamos la dimensión del tensor\n",
    "scalar.ndim"
   ],
   "id": "a325f533aa54df9",
   "outputs": [
    {
     "data": {
      "text/plain": [
       "0"
      ]
     },
     "execution_count": 4,
     "metadata": {},
     "output_type": "execute_result"
    }
   ],
   "execution_count": 4
  },
  {
   "metadata": {
    "ExecuteTime": {
     "end_time": "2024-08-14T13:58:55.387371Z",
     "start_time": "2024-08-14T13:58:55.383008Z"
    }
   },
   "cell_type": "code",
   "source": [
    "# Creando un vector\n",
    "vector = tf.constant([10, 10])\n",
    "vector"
   ],
   "id": "929bda23a3a363cb",
   "outputs": [
    {
     "data": {
      "text/plain": [
       "<tf.Tensor: shape=(2,), dtype=int32, numpy=array([10, 10])>"
      ]
     },
     "execution_count": 6,
     "metadata": {},
     "output_type": "execute_result"
    }
   ],
   "execution_count": 6
  },
  {
   "metadata": {
    "ExecuteTime": {
     "end_time": "2024-08-14T13:59:03.809527Z",
     "start_time": "2024-08-14T13:59:03.805873Z"
    }
   },
   "cell_type": "code",
   "source": [
    "# Verificamos la dimensión del tensor\n",
    "vector.ndim"
   ],
   "id": "29c589c3c7958aa1",
   "outputs": [
    {
     "data": {
      "text/plain": [
       "1"
      ]
     },
     "execution_count": 8,
     "metadata": {},
     "output_type": "execute_result"
    }
   ],
   "execution_count": 8
  },
  {
   "metadata": {
    "ExecuteTime": {
     "end_time": "2024-08-14T14:02:37.576575Z",
     "start_time": "2024-08-14T14:02:37.572451Z"
    }
   },
   "cell_type": "code",
   "source": [
    "# Creando una matriz\n",
    "matrix = tf.constant([[10, 7],\n",
    "                      [7, 10]])\n",
    "matrix"
   ],
   "id": "5a24dc929b6d1676",
   "outputs": [
    {
     "data": {
      "text/plain": [
       "<tf.Tensor: shape=(2, 2), dtype=int32, numpy=\n",
       "array([[10,  7],\n",
       "       [ 7, 10]])>"
      ]
     },
     "execution_count": 9,
     "metadata": {},
     "output_type": "execute_result"
    }
   ],
   "execution_count": 9
  },
  {
   "metadata": {
    "ExecuteTime": {
     "end_time": "2024-08-14T14:02:56.633756Z",
     "start_time": "2024-08-14T14:02:56.630133Z"
    }
   },
   "cell_type": "code",
   "source": [
    "# Verificamos la dimensión del tensor\n",
    "matrix.ndim"
   ],
   "id": "46d37225cb93c52a",
   "outputs": [
    {
     "data": {
      "text/plain": [
       "2"
      ]
     },
     "execution_count": 10,
     "metadata": {},
     "output_type": "execute_result"
    }
   ],
   "execution_count": 10
  },
  {
   "metadata": {
    "ExecuteTime": {
     "end_time": "2024-08-14T14:04:00.857327Z",
     "start_time": "2024-08-14T14:04:00.846387Z"
    }
   },
   "cell_type": "code",
   "source": [
    "# Creando otra matriz\n",
    "another_matrix = tf.constant([[10., 7.],\n",
    "                              [3., 2.],\n",
    "                              [8., 9.]], dtype=tf.float16) #  especificamos el tipo de dato\n",
    "another_matrix"
   ],
   "id": "9394f05b66745ad2",
   "outputs": [
    {
     "data": {
      "text/plain": [
       "<tf.Tensor: shape=(3, 2), dtype=float16, numpy=\n",
       "array([[10.,  7.],\n",
       "       [ 3.,  2.],\n",
       "       [ 8.,  9.]], dtype=float16)>"
      ]
     },
     "execution_count": 11,
     "metadata": {},
     "output_type": "execute_result"
    }
   ],
   "execution_count": 11
  },
  {
   "metadata": {
    "ExecuteTime": {
     "end_time": "2024-08-14T14:05:47.146217Z",
     "start_time": "2024-08-14T14:05:47.143047Z"
    }
   },
   "cell_type": "code",
   "source": [
    "# Verificamos la dimensión del tensor\n",
    "another_matrix.ndim"
   ],
   "id": "529ce72899f4a715",
   "outputs": [
    {
     "data": {
      "text/plain": [
       "2"
      ]
     },
     "execution_count": 13,
     "metadata": {},
     "output_type": "execute_result"
    }
   ],
   "execution_count": 13
  },
  {
   "metadata": {
    "ExecuteTime": {
     "end_time": "2024-08-14T14:07:42.357695Z",
     "start_time": "2024-08-14T14:07:42.353454Z"
    }
   },
   "cell_type": "code",
   "source": [
    "# Creando un tensor\n",
    "tensor = tf.constant([[[1, 2, 3],\n",
    "                      [4, 5, 6]],\n",
    "                     [[7, 8, 9],\n",
    "                      [10, 11, 12]],\n",
    "                     [[13, 14, 15],\n",
    "                      [16, 17, 18]]])\n",
    "tensor"
   ],
   "id": "28a14490a70799f5",
   "outputs": [
    {
     "data": {
      "text/plain": [
       "<tf.Tensor: shape=(3, 2, 3), dtype=int32, numpy=\n",
       "array([[[ 1,  2,  3],\n",
       "        [ 4,  5,  6]],\n",
       "\n",
       "       [[ 7,  8,  9],\n",
       "        [10, 11, 12]],\n",
       "\n",
       "       [[13, 14, 15],\n",
       "        [16, 17, 18]]])>"
      ]
     },
     "execution_count": 14,
     "metadata": {},
     "output_type": "execute_result"
    }
   ],
   "execution_count": 14
  },
  {
   "metadata": {
    "ExecuteTime": {
     "end_time": "2024-08-14T14:08:04.843032Z",
     "start_time": "2024-08-14T14:08:04.838870Z"
    }
   },
   "cell_type": "code",
   "source": [
    "# Verificamos la dimensión del tensor\n",
    "tensor.ndim"
   ],
   "id": "1cef22068a78e694",
   "outputs": [
    {
     "data": {
      "text/plain": [
       "3"
      ]
     },
     "execution_count": 15,
     "metadata": {},
     "output_type": "execute_result"
    }
   ],
   "execution_count": 15
  },
  {
   "metadata": {},
   "cell_type": "code",
   "outputs": [],
   "execution_count": null,
   "source": "\n",
   "id": "2e49982ea9293daa"
  }
 ],
 "metadata": {
  "kernelspec": {
   "display_name": "Python 3",
   "language": "python",
   "name": "python3"
  },
  "language_info": {
   "codemirror_mode": {
    "name": "ipython",
    "version": 2
   },
   "file_extension": ".py",
   "mimetype": "text/x-python",
   "name": "python",
   "nbconvert_exporter": "python",
   "pygments_lexer": "ipython2",
   "version": "2.7.6"
  }
 },
 "nbformat": 4,
 "nbformat_minor": 5
}
