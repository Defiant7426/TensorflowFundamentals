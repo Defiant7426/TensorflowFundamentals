{
 "cells": [
  {
   "metadata": {},
   "cell_type": "markdown",
   "source": "Los tensores aleatorios son tensores cuyos elementos son generados aleatoriamente. En este notebook se presentan ejempador de tensores aleatorios en TensorFlow.",
   "id": "cfc12df8c2af767"
  },
  {
   "cell_type": "code",
   "id": "initial_id",
   "metadata": {
    "collapsed": true,
    "ExecuteTime": {
     "end_time": "2024-08-16T21:11:00.267962Z",
     "start_time": "2024-08-16T21:10:53.418300Z"
    }
   },
   "source": [
    "import tensorflow as tf\n",
    "\n",
    "print(tf.__version__)"
   ],
   "outputs": [
    {
     "name": "stdout",
     "output_type": "stream",
     "text": [
      "WARNING:tensorflow:From C:\\Users\\KATANA\\anaconda3\\Lib\\site-packages\\keras\\src\\losses.py:2976: The name tf.losses.sparse_softmax_cross_entropy is deprecated. Please use tf.compat.v1.losses.sparse_softmax_cross_entropy instead.\n",
      "\n",
      "2.15.0\n"
     ]
    }
   ],
   "execution_count": 1
  },
  {
   "metadata": {
    "ExecuteTime": {
     "end_time": "2024-08-16T22:14:41.540659Z",
     "start_time": "2024-08-16T22:14:41.533464Z"
    }
   },
   "cell_type": "code",
   "source": [
    "random_1 = tf.random.Generator.from_seed(1234)\n",
    "\n",
    "random_1 = random_1.uniform(shape=(3, 2), minval=0,maxval=1)\n",
    "random_1"
   ],
   "id": "32bd2428803dc363",
   "outputs": [
    {
     "data": {
      "text/plain": [
       "<tf.Tensor: shape=(3, 2), dtype=float32, numpy=\n",
       "array([[0.3581475 , 0.11322761],\n",
       "       [0.56670904, 0.6712369 ],\n",
       "       [0.32565057, 0.17095459]], dtype=float32)>"
      ]
     },
     "execution_count": 7,
     "metadata": {},
     "output_type": "execute_result"
    }
   ],
   "execution_count": 7
  },
  {
   "metadata": {
    "ExecuteTime": {
     "end_time": "2024-08-16T22:16:24.812474Z",
     "start_time": "2024-08-16T22:16:24.805355Z"
    }
   },
   "cell_type": "code",
   "source": "tf.random.shuffle(random_1, seed=1234)",
   "id": "d9d7759da4d77af4",
   "outputs": [
    {
     "data": {
      "text/plain": [
       "<tf.Tensor: shape=(3, 2), dtype=float32, numpy=\n",
       "array([[0.32565057, 0.17095459],\n",
       "       [0.3581475 , 0.11322761],\n",
       "       [0.56670904, 0.6712369 ]], dtype=float32)>"
      ]
     },
     "execution_count": 11,
     "metadata": {},
     "output_type": "execute_result"
    }
   ],
   "execution_count": 11
  },
  {
   "metadata": {},
   "cell_type": "code",
   "outputs": [],
   "execution_count": null,
   "source": "",
   "id": "ef0f245c3ef8239d"
  }
 ],
 "metadata": {
  "kernelspec": {
   "display_name": "Python 3",
   "language": "python",
   "name": "python3"
  },
  "language_info": {
   "codemirror_mode": {
    "name": "ipython",
    "version": 2
   },
   "file_extension": ".py",
   "mimetype": "text/x-python",
   "name": "python",
   "nbconvert_exporter": "python",
   "pygments_lexer": "ipython2",
   "version": "2.7.6"
  }
 },
 "nbformat": 4,
 "nbformat_minor": 5
}
