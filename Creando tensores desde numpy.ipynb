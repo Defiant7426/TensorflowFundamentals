{
 "cells": [
  {
   "cell_type": "code",
   "id": "initial_id",
   "metadata": {
    "collapsed": true,
    "ExecuteTime": {
     "end_time": "2024-08-18T13:23:09.950123Z",
     "start_time": "2024-08-18T13:23:02.883397Z"
    }
   },
   "source": "import tensorflow as tf",
   "outputs": [
    {
     "name": "stdout",
     "output_type": "stream",
     "text": [
      "WARNING:tensorflow:From C:\\Users\\KATANA\\anaconda3\\Lib\\site-packages\\keras\\src\\losses.py:2976: The name tf.losses.sparse_softmax_cross_entropy is deprecated. Please use tf.compat.v1.losses.sparse_softmax_cross_entropy instead.\n",
      "\n"
     ]
    }
   ],
   "execution_count": 1
  },
  {
   "metadata": {
    "ExecuteTime": {
     "end_time": "2024-08-18T13:23:36.921403Z",
     "start_time": "2024-08-18T13:23:36.864147Z"
    }
   },
   "cell_type": "code",
   "source": [
    "# Creando un tensor de 2x2 con todos los elementos en 1\n",
    "tf.ones(shape=[2, 2])"
   ],
   "id": "36912f8aceb62aea",
   "outputs": [
    {
     "data": {
      "text/plain": [
       "<tf.Tensor: shape=(2, 2), dtype=float32, numpy=\n",
       "array([[1., 1.],\n",
       "       [1., 1.]], dtype=float32)>"
      ]
     },
     "execution_count": 3,
     "metadata": {},
     "output_type": "execute_result"
    }
   ],
   "execution_count": 3
  },
  {
   "metadata": {
    "ExecuteTime": {
     "end_time": "2024-08-18T13:24:08.907882Z",
     "start_time": "2024-08-18T13:24:08.903329Z"
    }
   },
   "cell_type": "code",
   "source": [
    "# Creando un tensor de 2x2 con todos los elementos en 0\n",
    "tf.zeros(shape=[2, 2])"
   ],
   "id": "ef1fd3329172ea1d",
   "outputs": [
    {
     "data": {
      "text/plain": [
       "<tf.Tensor: shape=(2, 2), dtype=float32, numpy=\n",
       "array([[0., 0.],\n",
       "       [0., 0.]], dtype=float32)>"
      ]
     },
     "execution_count": 4,
     "metadata": {},
     "output_type": "execute_result"
    }
   ],
   "execution_count": 4
  },
  {
   "metadata": {},
   "cell_type": "markdown",
   "source": "La principal diferencia entre un tensor y un array de numpy es que los tensores pueden ser ejecutados en una GPU o TPU para acelerar los cálculos.",
   "id": "10741eed7b21c8cd"
  },
  {
   "metadata": {
    "ExecuteTime": {
     "end_time": "2024-08-18T13:28:28.977693Z",
     "start_time": "2024-08-18T13:28:28.973694Z"
    }
   },
   "cell_type": "code",
   "source": [
    "import numpy as np\n",
    "\n",
    "# Creando un array de numpy\n",
    "numpy_A = np.arange(1, 25, dtype=np.int32)\n",
    "numpy_A"
   ],
   "id": "47321c5fd01f36d",
   "outputs": [
    {
     "data": {
      "text/plain": [
       "array([ 1,  2,  3,  4,  5,  6,  7,  8,  9, 10, 11, 12, 13, 14, 15, 16, 17,\n",
       "       18, 19, 20, 21, 22, 23, 24])"
      ]
     },
     "execution_count": 5,
     "metadata": {},
     "output_type": "execute_result"
    }
   ],
   "execution_count": 5
  },
  {
   "metadata": {
    "ExecuteTime": {
     "end_time": "2024-08-18T13:28:52.159373Z",
     "start_time": "2024-08-18T13:28:52.151525Z"
    }
   },
   "cell_type": "code",
   "source": [
    "# Creando un tensor desde un array de numpy\n",
    "tensor_A = tf.constant(numpy_A, shape=[2, 3, 4])\n",
    "tensor_A"
   ],
   "id": "5d2ecfac54cb477a",
   "outputs": [
    {
     "data": {
      "text/plain": [
       "<tf.Tensor: shape=(2, 3, 4), dtype=int32, numpy=\n",
       "array([[[ 1,  2,  3,  4],\n",
       "        [ 5,  6,  7,  8],\n",
       "        [ 9, 10, 11, 12]],\n",
       "\n",
       "       [[13, 14, 15, 16],\n",
       "        [17, 18, 19, 20],\n",
       "        [21, 22, 23, 24]]])>"
      ]
     },
     "execution_count": 6,
     "metadata": {},
     "output_type": "execute_result"
    }
   ],
   "execution_count": 6
  },
  {
   "metadata": {},
   "cell_type": "code",
   "outputs": [],
   "execution_count": null,
   "source": "",
   "id": "5e7e033a2c8d06e9"
  }
 ],
 "metadata": {
  "kernelspec": {
   "display_name": "Python 3",
   "language": "python",
   "name": "python3"
  },
  "language_info": {
   "codemirror_mode": {
    "name": "ipython",
    "version": 2
   },
   "file_extension": ".py",
   "mimetype": "text/x-python",
   "name": "python",
   "nbconvert_exporter": "python",
   "pygments_lexer": "ipython2",
   "version": "2.7.6"
  }
 },
 "nbformat": 4,
 "nbformat_minor": 5
}
